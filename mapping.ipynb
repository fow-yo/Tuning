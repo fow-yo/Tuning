{
  "nbformat": 4,
  "nbformat_minor": 0,
  "metadata": {
    "colab": {
      "name": "mapping",
      "provenance": [],
      "collapsed_sections": []
    },
    "kernelspec": {
      "name": "python3",
      "display_name": "Python 3"
    },
    "language_info": {
      "name": "python"
    }
  },
  "cells": [
    {
      "cell_type": "code",
      "source": [
        "!pip install jsonlines"
      ],
      "metadata": {
        "colab": {
          "base_uri": "https://localhost:8080/"
        },
        "id": "JLavpzmaJwjq",
        "outputId": "39f38ca8-3051-476b-9aec-e6060f68782c"
      },
      "execution_count": 22,
      "outputs": [
        {
          "output_type": "stream",
          "name": "stdout",
          "text": [
            "Looking in indexes: https://pypi.org/simple, https://us-python.pkg.dev/colab-wheels/public/simple/\n",
            "Requirement already satisfied: jsonlines in /usr/local/lib/python3.7/dist-packages (3.1.0)\n",
            "Requirement already satisfied: typing-extensions in /usr/local/lib/python3.7/dist-packages (from jsonlines) (4.1.1)\n",
            "Requirement already satisfied: attrs>=19.2.0 in /usr/local/lib/python3.7/dist-packages (from jsonlines) (22.1.0)\n"
          ]
        }
      ]
    },
    {
      "cell_type": "code",
      "source": [
        "import os\n",
        "import json\n",
        "import jsonlines\n",
        "import pandas as pd\n",
        "\n",
        "from collections import defaultdict"
      ],
      "metadata": {
        "id": "0OLYALsDVuG6"
      },
      "execution_count": 23,
      "outputs": []
    },
    {
      "cell_type": "code",
      "source": [
        "def data_add_test(path_en, path_ru, path_alignment, path_mapping):\n",
        "    \n",
        "    unique_doc_ids_en = lang_data_parse(path_en)\n",
        "    unique_doc_ids_ru = lang_data_parse(path_ru)\n",
        "    \n",
        "    with open(path_mapping, 'r') as f:\n",
        "        mapping = f.readlines()\n",
        "        \n",
        "    mapping = [x.strip('\\n').split('\\t') for x in mapping]\n",
        "    mapping_dict = {}\n",
        "    \n",
        "    for el in mapping:\n",
        "        mapping_dict[el[0]] = el[1]\n",
        "        \n",
        "    with open(path_alignment, 'r') as f:\n",
        "        align = f.readlines()\n",
        "        \n",
        "    align = [x.strip('\\n').split('\\t') for x in align]\n",
        "    align = [[mapping_dict[x[1]], x[2], x[3]] for x in align]\n",
        "\n",
        "    return align, unique_doc_ids_en, unique_doc_ids_ru"
      ],
      "metadata": {
        "id": "1IRIznfhEDs0"
      },
      "execution_count": 24,
      "outputs": []
    },
    {
      "cell_type": "code",
      "source": [
        "def lang_data_parse(path):\n",
        "    \n",
        "    with open(path, 'r') as f:\n",
        "        lang = f.readlines()\n",
        "        \n",
        "    lang = [x.split('\\t') for x in lang]\n",
        "    \n",
        "    unique_doc_ids = defaultdict(dict)\n",
        "    \n",
        "    for el in lang:\n",
        "        doc_id = el[0]\n",
        "        unique_doc_ids[doc_id][el[1]] = el[2].strip('\\n')\n",
        "        \n",
        "    return unique_doc_ids"
      ],
      "metadata": {
        "id": "r8wHSe9XaRZu"
      },
      "execution_count": 25,
      "outputs": []
    },
    {
      "cell_type": "code",
      "source": [
        "path = '/content/texts'"
      ],
      "metadata": {
        "id": "uRGwynNAaUX4"
      },
      "execution_count": 26,
      "outputs": []
    },
    {
      "cell_type": "code",
      "source": [
        "files_en = []\n",
        "files_fr = []\n",
        "\n",
        "for el in os.listdir(path):\n",
        "    if '_fr' in el:\n",
        "        files_en.append(el)\n",
        "    else:\n",
        "        files_fr.append(el)"
      ],
      "metadata": {
        "id": "QNfU2X8zJ9hL"
      },
      "execution_count": 27,
      "outputs": []
    },
    {
      "cell_type": "code",
      "source": [
        "files_en = sorted(files_en)\n",
        "files_fr = sorted(files_fr)"
      ],
      "metadata": {
        "id": "yPnBUaxFJ-qx"
      },
      "execution_count": 28,
      "outputs": []
    },
    {
      "cell_type": "code",
      "source": [
        "results = []\n",
        "\n",
        "for i, j in zip(files_en, files_fr):\n",
        "    with open(path + '/' + i, 'r') as f:\n",
        "        en = f.read()\n",
        "    with open(path + '/' + j, 'r') as f:\n",
        "        fr = f.read()\n",
        "    results.append({\"translation\": {\"fr\": fr,\n",
        "                                    \"en\": en\n",
        "                                    }})"
      ],
      "metadata": {
        "id": "AkNiDaZiJ_5t"
      },
      "execution_count": 29,
      "outputs": []
    },
    {
      "cell_type": "code",
      "source": [
        "align_20, unique_doc_ids_20, unique_doc_ids_fr_20 = data_add_test(\n",
        "                            '/content/data/medline_fr2en_en.txt',\n",
        "                            '/content/data/medline_fr2en_fr_21.txt',\n",
        "                            '/content/data/fr-en_align_validation.tsv',\n",
        "                            '/content/data/fren_mapping.txt'\n",
        "                           )"
      ],
      "metadata": {
        "id": "b25C1vBuZaVL"
      },
      "execution_count": 31,
      "outputs": []
    },
    {
      "cell_type": "code",
      "source": [
        "res_20 = []\n",
        "\n",
        "for el in align_20:\n",
        "    if 'omitted' not in el:\n",
        "        try:\n",
        "            doc_id = el[0]\n",
        "            sent_en = el[2]\n",
        "            sent_fr = el[1]\n",
        "            en = unique_doc_ids_20[doc_id][sent_en]\n",
        "            fr = unique_doc_ids_fr_20[doc_id][sent_fr]\n",
        "            res_20.append({\"translation\": {\"fr\": fr, \"en\": en}})\n",
        "        except KeyError:\n",
        "            pass"
      ],
      "metadata": {
        "id": "Yxbd_QDwUQdQ"
      },
      "execution_count": 32,
      "outputs": []
    },
    {
      "cell_type": "code",
      "source": [
        "with jsonlines.open('train.jsonl', mode='w') as writer:\n",
        "    for annotation in results:\n",
        "        writer.write(annotation)"
      ],
      "metadata": {
        "id": "hNucyY-7VFeO"
      },
      "execution_count": 34,
      "outputs": []
    },
    {
      "cell_type": "code",
      "source": [
        "import shutil\n",
        "shutil.rmtree('/content/data')\n"
      ],
      "metadata": {
        "id": "9zvesI0BE0g_"
      },
      "execution_count": null,
      "outputs": []
    }
  ]
}