{
  "nbformat": 4,
  "nbformat_minor": 0,
  "metadata": {
    "colab": {
      "name": "mapping",
      "provenance": [],
      "collapsed_sections": []
    },
    "kernelspec": {
      "name": "python3",
      "display_name": "Python 3"
    },
    "language_info": {
      "name": "python"
    }
  },
  "cells": [
    {
      "cell_type": "code",
      "source": [
        "!pip install jsonlines"
      ],
      "metadata": {
        "colab": {
          "base_uri": "https://localhost:8080/"
        },
        "id": "JLavpzmaJwjq",
        "outputId": "8e8c286b-1318-4410-c045-6c4b819a6cc4"
      },
      "execution_count": null,
      "outputs": [
        {
          "output_type": "stream",
          "name": "stdout",
          "text": [
            "Looking in indexes: https://pypi.org/simple, https://us-python.pkg.dev/colab-wheels/public/simple/\n",
            "Requirement already satisfied: jsonlines in /usr/local/lib/python3.7/dist-packages (3.1.0)\n",
            "Requirement already satisfied: typing-extensions in /usr/local/lib/python3.7/dist-packages (from jsonlines) (4.1.1)\n",
            "Requirement already satisfied: attrs>=19.2.0 in /usr/local/lib/python3.7/dist-packages (from jsonlines) (22.1.0)\n"
          ]
        }
      ]
    },
    {
      "cell_type": "code",
      "source": [
        "import os\n",
        "import json\n",
        "import jsonlines\n",
        "import pandas as pd\n",
        "\n",
        "from collections import defaultdict"
      ],
      "metadata": {
        "id": "0OLYALsDVuG6"
      },
      "execution_count": null,
      "outputs": []
    },
    {
      "cell_type": "code",
      "source": [
        "def data_add_test(path_source, path_target, path_alignment, path_mapping):\n",
        "    \n",
        "    unique_doc_ids_source = lang_data_parse(path_source)\n",
        "    unique_doc_ids_target = lang_data_parse(path_target)\n",
        "    \n",
        "    with open(path_mapping, 'r') as f:\n",
        "        mapping = f.readlines()\n",
        "        \n",
        "    mapping = [x.strip('\\n').split('\\t') for x in mapping]\n",
        "    mapping_dict = {}\n",
        "    \n",
        "    for el in mapping:\n",
        "        mapping_dict[el[0]] = el[1]\n",
        "        \n",
        "    with open(path_alignment, 'r') as f:\n",
        "        align = f.readlines()\n",
        "        \n",
        "    align = [x.strip('\\n').split('\\t') for x in align]\n",
        "    align = [[mapping_dict[x[1]], x[2], x[3]] for x in align]\n",
        "\n",
        "    return align, unique_doc_ids_source, unique_doc_ids_target"
      ],
      "metadata": {
        "id": "1IRIznfhEDs0"
      },
      "execution_count": null,
      "outputs": []
    },
    {
      "cell_type": "code",
      "source": [
        "def lang_data_parse(path):\n",
        "    \n",
        "    with open(path, 'r') as f:\n",
        "        lang = f.readlines()\n",
        "        \n",
        "    lang = [x.split('\\t') for x in lang]\n",
        "    \n",
        "    unique_doc_ids = defaultdict(dict)\n",
        "    \n",
        "    for el in lang:\n",
        "        doc_id = el[0]\n",
        "        unique_doc_ids[doc_id][el[1]] = el[2].strip('\\n')\n",
        "        \n",
        "    return unique_doc_ids"
      ],
      "metadata": {
        "id": "r8wHSe9XaRZu"
      },
      "execution_count": null,
      "outputs": []
    },
    {
      "cell_type": "code",
      "source": [
        "def generate_translation_json(path_source, path_target, path_alignment, path_mapping):\n",
        "  align_20, unique_doc_ids_20, unique_doc_ids_fr_20 = data_add_test(\n",
        "                            path_source,\n",
        "                            path_target,\n",
        "                            path_alignment,\n",
        "                            path_mapping\n",
        "                           )\n",
        "  res_20 = []\n",
        "\n",
        "  for el in align_20:\n",
        "      if 'omitted' not in el:\n",
        "          try:\n",
        "              doc_id = el[0]\n",
        "              sent_en = el[2]\n",
        "              sent_fr = el[1]\n",
        "              en = unique_doc_ids_20[doc_id][sent_en]\n",
        "              fr = unique_doc_ids_fr_20[doc_id][sent_fr]\n",
        "              res_20.append({\"translation\": {\"fr\": fr, \"en\": en}})\n",
        "          except KeyError:\n",
        "              pass\n",
        "\n",
        "  return res_20\n",
        "\n"
      ],
      "metadata": {
        "id": "XCQK5oNtBe93"
      },
      "execution_count": null,
      "outputs": []
    },
    {
      "cell_type": "code",
      "source": [
        "mapping_original = generate_translation_json(\n",
        "                            '/content/data/medline_fr2en_en.txt',\n",
        "                            '/content/data/medline_fr2en_fr.txt',\n",
        "                            '/content/data/fr-en_align_validation.tsv',\n",
        "                            '/content/data/fren_mapping.txt'\n",
        "                           )"
      ],
      "metadata": {
        "id": "b25C1vBuZaVL"
      },
      "execution_count": null,
      "outputs": []
    },
    {
      "cell_type": "code",
      "source": [
        "with jsonlines.open('mapping_original.jsonl', mode='w') as writer:\n",
        "        writer.write(mapping_original)"
      ],
      "metadata": {
        "id": "AR1yTSA4CM1I"
      },
      "execution_count": null,
      "outputs": []
    },
    {
      "cell_type": "code",
      "source": [
        "mapping_predictions = generate_translation_json(\n",
        "                            '/content/data/medline_fr2en_fr.txt',\n",
        "                            '/content/data/medline_fr2en_en_predictions.txt',\n",
        "                            '/content/data/fr-en_align_validation.tsv',\n",
        "                            '/content/data/fren_mapping.txt'\n",
        "                           )"
      ],
      "metadata": {
        "id": "J92_ek-8Ezx8"
      },
      "execution_count": null,
      "outputs": []
    },
    {
      "cell_type": "code",
      "source": [
        "with jsonlines.open('mapping_predictions.jsonl', mode='w') as writer:\n",
        "        writer.write(mapping_predictions)"
      ],
      "metadata": {
        "id": "zK0onynPE1E0"
      },
      "execution_count": null,
      "outputs": []
    }
  ]
}